{
 "cells": [
  {
   "cell_type": "code",
   "execution_count": 2,
   "metadata": {},
   "outputs": [],
   "source": [
    "import pandas as pd\n",
    "data = pd.read_csv('world-data-2023_part1.csv')"
   ]
  },
  {
   "cell_type": "markdown",
   "metadata": {},
   "source": [
    "# Ejercicios de exploración del conjunto de datos\n",
    "\n",
    "    Muestra las primeras 5 filas del conjunto de datos.\n",
    "\n",
    "    Muestra las últimas 5 filas del conjunto de datos.\n",
    "\n",
    "    Muestra una muestra aleatoria de 5 filas del conjunto de datos.\n",
    "\n",
    "    Muestra el nombre de todas las columnas en el conjunto de datos.\n",
    "\n",
    "    Muestra los valores únicos en la columna \"Abbreviation\"."
   ]
  },
  {
   "cell_type": "code",
   "execution_count": null,
   "metadata": {},
   "outputs": [],
   "source": []
  },
  {
   "cell_type": "code",
   "execution_count": null,
   "metadata": {},
   "outputs": [],
   "source": []
  },
  {
   "cell_type": "markdown",
   "metadata": {},
   "source": [
    "# BONUS DE EXPLORACION\n",
    "\n",
    "    Cuenta cuántas veces aparece cada valor único en la columna \"Abbreviation\".\n",
    "\n",
    "    Verifica si hay valores nulos en el conjunto de datos.\n",
    "\n",
    "    Verifica si hay valores no nulos en el conjunto de datos.\n",
    "\n",
    "    Muestra información general sobre el conjunto de datos.\n",
    "\n",
    "    Elimina una columna específica (por ejemplo, \"Armed Forces size\").\n",
    "\n",
    "    Selecciona las columnas numéricas del conjunto de datos y muestra sus estadísticas descriptivas básicas (para esto tendréis que usar el método '.describe(), su documentación la tenéis aquí)."
   ]
  },
  {
   "cell_type": "markdown",
   "metadata": {},
   "source": [
    "# Ejercicios con loc e iloc\n",
    "\n",
    "    Selecciona todas las columnas de las filas 2 a 4 (inclusive) utilizando loc.\n",
    "\n",
    "    Utilizando loc, filtra el conjunto de datos para mostrar solo las filas donde la densidad (columna \"Birth Rate\") es mayor a 30.\n",
    "\n",
    "    Utilizando loc selecciona las columnas \"Country\" y \"Capital/Major City\" de las filas donde el porcentaje de tierra agrícola (columna \"Fertility Rate\") es superior al 3.\n",
    "\n",
    "    Selecciona todas las filas de las columnas 0 a 4 (excluyendo la columna 4) utilizando iloc.\n",
    "\n",
    "    Encuentra el valor en la fila 2 y columna 7 utilizando iloc.\n",
    "\n",
    "    Selecciona todas las filas para las columnas 0, 2, y 5 utilizando iloc."
   ]
  },
  {
   "cell_type": "markdown",
   "metadata": {},
   "source": [
    "# BONUS DE LOC Y ILOC\n",
    "\n",
    "    Encuentra el valor de \"Gasoline Price\" para el país cuya abreviatura es \"AL\" utilizando loc.\n",
    "\n",
    "    Selecciona todas las columnas para el país cuya capital es \"Tirana\" utilizando loc.\n",
    "\n",
    "    Filtra el conjunto de datos para mostrar solo las filas donde el índice de CPI (columna \"CPI\") sea igual a 128.85.\n",
    "\n",
    "    Encuentra la densidad (columna \"Density\\n(P/Km2)\") para el país cuya abreviatura es \"AD\" utilizando loc.\n",
    "\n",
    "    Selecciona las columnas \"Country\" y \"Co2-Emissions\".\n",
    "\n",
    "    Filtra el conjunto de datos para mostrar solo las filas donde el índice de CPI cambió un 2% (columna \"CPI Change (%)\").\n",
    "\n",
    "    Encuentra la tasa de natalidad (columna \"Birth Rate\") para el país con la abreviatura \"AF\" utilizando loc.\n",
    "\n",
    "    Selecciona todas las columnas de las filas 3 a 5 (excluyendo la fila 5) utilizando iloc.\n",
    "\n",
    "    Selecciona las columnas 1, 3 y 6 para todas las filas utilizando iloc."
   ]
  }
 ],
 "metadata": {
  "kernelspec": {
   "display_name": "base",
   "language": "python",
   "name": "python3"
  },
  "language_info": {
   "codemirror_mode": {
    "name": "ipython",
    "version": 3
   },
   "file_extension": ".py",
   "mimetype": "text/x-python",
   "name": "python",
   "nbconvert_exporter": "python",
   "pygments_lexer": "ipython3",
   "version": "3.9.7"
  }
 },
 "nbformat": 4,
 "nbformat_minor": 2
}
